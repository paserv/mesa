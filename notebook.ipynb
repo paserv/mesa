{
 "cells": [
  {
   "cell_type": "code",
   "execution_count": 1,
   "metadata": {},
   "outputs": [],
   "source": [
    "import matplotlib.pyplot as plt\n",
    "from matplotlib import animation, rc\n",
    "from ipywidgets import interact_manual\n",
    "from model import QueueModel"
   ]
  },
  {
   "cell_type": "code",
   "execution_count": 2,
   "metadata": {},
   "outputs": [
    {
     "data": {
      "application/vnd.jupyter.widget-view+json": {
       "model_id": "e02b81fa3b0248a284e6a04251de027f",
       "version_major": 2,
       "version_minor": 0
      },
      "text/plain": [
       "interactive(children=(IntSlider(value=5, description='no_customers', max=1000, min=1, step=10), IntSlider(valu…"
      ]
     },
     "metadata": {},
     "output_type": "display_data"
    }
   ],
   "source": [
    "closing_at = [\n",
    "        [[0, 60]], \n",
    "        [[60, 120]], \n",
    "        [[120, 180]], \n",
    "        [[240, 300]], \n",
    "        [[0, 60], [300, 400]]\n",
    "        ]\n",
    "\n",
    "@interact_manual(hours=(1, 10, 1), no_customers=(1, 1000, 10), no_mobile_customers=(1, 60, 1), no_counters=(1, 10, 1))\n",
    "def run(no_customers = 5, no_mobile_customers = 5, no_counters = 5, hours = 1):\n",
    "    ticks = hours * 60\n",
    "    grid_width = no_counters * 2\n",
    "    grid_height = grid_width\n",
    "    model = QueueModel(no_customers = no_customers, no_mobile_customers = no_mobile_customers, no_counters = no_counters, closing_at = closing_at, hours = hours, grid_width = grid_width, grid_height = grid_height)\n",
    "    fig, ax = plt.subplots()\n",
    "\n",
    "    def animate(i):\n",
    "        model.step()\n",
    "        ax.cla()\n",
    "        x_arr = []\n",
    "        y_arr = []\n",
    "        for customer in model.customers:\n",
    "            if customer._arrived:\n",
    "                x_arr.append(customer.coords[0] + 0.5)\n",
    "                y_arr.append(customer.coords[1] + 0.5)\n",
    "        ax.scatter(x_arr, y_arr, s=300, marker=\".\", label=\"customer\")\n",
    "\n",
    "        m_x_arr = []\n",
    "        m_y_arr = []\n",
    "        for customer in model.mobile_customers:\n",
    "            if customer._arrived:\n",
    "                m_x_arr.append(customer.coords[0] + 0.5)\n",
    "                m_y_arr.append(customer.coords[1] + 0.5)\n",
    "        ax.scatter(m_x_arr, m_y_arr, s=300, marker=(5, 1), label=\"mobile customer\")\n",
    "        \n",
    "        c_x_arr = []\n",
    "        c_y_arr = []\n",
    "        for counter in model.counters:\n",
    "            if not counter.closing:\n",
    "                c_x_arr.append(counter.x_pos + 0.5)\n",
    "                c_y_arr.append(0.5)\n",
    "        ax.scatter(c_x_arr, c_y_arr, s=300, marker=(5, 0), label=\"counter\")\n",
    "\n",
    "        ax.legend()\n",
    "        plt.setp(ax, xticks=range(grid_width + 1), xticklabels=[\" \" for x in range(grid_width + 1)], yticks=range(grid_height + 1), yticklabels=[\" \" for x in range(grid_height + 1)])\n",
    "        return (fig,)\n",
    "  \n",
    "    anim = animation.FuncAnimation(fig, animate, frames=ticks, interval=200)\n",
    "    plt.close()\n",
    "    rc('animation', html='jshtml')\n",
    "    return anim"
   ]
  }
 ],
 "metadata": {
  "interpreter": {
   "hash": "9f97148f289af85ffae4e4eb4dd8ec3f8e2d700569137bc0dcc00d1aa7dfa72e"
  },
  "kernelspec": {
   "display_name": "Python 3.7.6 64-bit ('venv': venv)",
   "language": "python",
   "name": "python3"
  },
  "language_info": {
   "codemirror_mode": {
    "name": "ipython",
    "version": 3
   },
   "file_extension": ".py",
   "mimetype": "text/x-python",
   "name": "python",
   "nbconvert_exporter": "python",
   "pygments_lexer": "ipython3",
   "version": "3.7.6"
  },
  "orig_nbformat": 4
 },
 "nbformat": 4,
 "nbformat_minor": 2
}
